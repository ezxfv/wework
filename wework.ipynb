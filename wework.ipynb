{
 "cells": [
  {
   "cell_type": "code",
   "execution_count": 1,
   "id": "35660e83-9da4-4f90-974e-186c02e3e305",
   "metadata": {},
   "outputs": [],
   "source": [
    "from appium import webdriver\n",
    "from appium.webdriver.common.appiumby import AppiumBy\n",
    "from appium.options.mac import Mac2Options\n",
    "import time\n",
    "import xml.etree.ElementTree as ET"
   ]
  },
  {
   "cell_type": "code",
   "execution_count": 97,
   "id": "02c420a7-c4ae-4c69-b697-9f3b8528687b",
   "metadata": {},
   "outputs": [],
   "source": [
    "from appium.webdriver.common.touch_action import TouchAction\n",
    "action = TouchAction(driver)"
   ]
  },
  {
   "cell_type": "code",
   "execution_count": 117,
   "id": "727ac3da-e3f0-445a-9984-cf43ff743921",
   "metadata": {},
   "outputs": [],
   "source": [
    "options = Mac2Options()\n",
    "options.bundle_id = 'com.tencent.WeWorkMac'  # 指定企业微信\n",
    "options.platform_name = 'mac'\n",
    "options.automation_name = 'mac2'\n",
    "options.set_capability(\"autoLaunch\", False)\n",
    "options.set_capability(\"forceAppLaunch\", False)  # 不强制启动应用\n",
    "options.set_capability(\"useRunningApp\", True)  # 连接已经运行的企业微信\n",
    "options.set_capability(\"shouldUseSingletonTestManager\", True)  # 避免重复创建 WDA 实例\n",
    "options.set_capability(\"wdaLocalPort\", 8100)  # 绑定已有 WDA，防止重启应用\n",
    "# 绑定已有进程id\n",
    "options.set_capability(\"connectHardwareKeyboard\", True)  # 连接但不干扰输入法\n",
    "options.set_capability(\"newCommandTimeout\", 6000) # 设置等待新命令的时间\n",
    "# **初始化 driver**\n",
    "driver = webdriver.Remote('http://localhost:4723', options=options)"
   ]
  },
  {
   "cell_type": "code",
   "execution_count": 121,
   "id": "fe01cf86-e5d5-481d-b8eb-2754f49f9519",
   "metadata": {},
   "outputs": [
    {
     "ename": "InvalidArgumentException",
     "evalue": "Message: The following required parameter is missing: [\"keys\"]\nKnown required parameters are: [\"keys\"]\nKnown optional parameters are: [\"elementId\"]\nYou have provided none\nStacktrace:\nBadParametersError: The following required parameter is missing: [\"keys\"]\nKnown required parameters are: [\"keys\"]\nKnown optional parameters are: [\"elementId\"]\nYou have provided none\n    at checkParams (/Users/edenz/.appium/node_modules/@appium/base-driver/lib/protocol/protocol.js:155:9)\n    at validateExecuteMethodParams (/Users/edenz/.appium/node_modules/@appium/base-driver/lib/protocol/protocol.js:242:5)\n    at Mac2Driver.executeMethod (/Users/edenz/.appium/node_modules/@appium/base-driver/lib/basedriver/commands/execute.ts:34:45)\n    at Mac2Driver.execute (/Users/edenz/.appium/node_modules/appium-mac2-driver/lib/commands/execute.js:16:21)\n    at runCommandPromise (/Users/edenz/.appium/node_modules/@appium/base-driver/lib/basedriver/driver.ts:115:20)\n    at /Users/edenz/.appium/node_modules/async-lock/lib/index.js:171:12\n    at AsyncLock._promiseTry (/Users/edenz/.appium/node_modules/async-lock/lib/index.js:306:31)\n    at exec (/Users/edenz/.appium/node_modules/async-lock/lib/index.js:170:9)\n    at AsyncLock.acquire (/Users/edenz/.appium/node_modules/async-lock/lib/index.js:189:3)\n    at Mac2Driver.executeCommand (/Users/edenz/.appium/node_modules/@appium/base-driver/lib/basedriver/driver.ts:159:39)\n    at processTicksAndRejections (node:internal/process/task_queues:95:5)\n    at defaultBehavior (/Users/edenz/.xnpm/lib/node_modules/appium/lib/appium.js:684:14)\n    at AppiumDriver.executeWrappedCommand (/Users/edenz/.xnpm/lib/node_modules/appium/lib/appium.js:774:16)\n    at AppiumDriver.executeCommand (/Users/edenz/.xnpm/lib/node_modules/appium/lib/appium.js:696:17)\n    at asyncHandler (/Users/edenz/.xnpm/lib/node_modules/appium/node_modules/@appium/base-driver/lib/protocol/protocol.js:387:19)",
     "output_type": "error",
     "traceback": [
      "\u001b[0;31m---------------------------------------------------------------------------\u001b[0m",
      "\u001b[0;31mInvalidArgumentException\u001b[0m                  Traceback (most recent call last)",
      "Cell \u001b[0;32mIn[121], line 2\u001b[0m\n\u001b[1;32m      1\u001b[0m \u001b[38;5;66;03m# 模拟 Cmd+F 快捷键\u001b[39;00m\n\u001b[0;32m----> 2\u001b[0m \u001b[43mdriver\u001b[49m\u001b[38;5;241;43m.\u001b[39;49m\u001b[43mexecute_script\u001b[49m\u001b[43m(\u001b[49m\u001b[38;5;124;43m'\u001b[39;49m\u001b[38;5;124;43mmacos: keys\u001b[39;49m\u001b[38;5;124;43m'\u001b[39;49m\u001b[43m,\u001b[49m\u001b[43m \u001b[49m\u001b[43m{\u001b[49m\u001b[38;5;124;43m'\u001b[39;49m\u001b[38;5;124;43mcommand\u001b[39;49m\u001b[38;5;124;43m'\u001b[39;49m\u001b[43m:\u001b[49m\u001b[43m \u001b[49m\u001b[38;5;28;43;01mTrue\u001b[39;49;00m\u001b[43m,\u001b[49m\u001b[43m \u001b[49m\u001b[38;5;124;43m'\u001b[39;49m\u001b[38;5;124;43mtext\u001b[39;49m\u001b[38;5;124;43m'\u001b[39;49m\u001b[43m:\u001b[49m\u001b[43m \u001b[49m\u001b[38;5;124;43m'\u001b[39;49m\u001b[38;5;124;43mf\u001b[39;49m\u001b[38;5;124;43m'\u001b[39;49m\u001b[43m}\u001b[49m\u001b[43m)\u001b[49m\n\u001b[1;32m      3\u001b[0m time\u001b[38;5;241m.\u001b[39msleep(\u001b[38;5;241m0.2\u001b[39m)\n\u001b[1;32m      5\u001b[0m \u001b[38;5;66;03m# 输入搜索内容\u001b[39;00m\n",
      "File \u001b[0;32m/usr/local/Caskroom/miniconda/base/envs/cv/lib/python3.10/site-packages/selenium/webdriver/remote/webdriver.py:500\u001b[0m, in \u001b[0;36mWebDriver.execute_script\u001b[0;34m(self, script, *args)\u001b[0m\n\u001b[1;32m    497\u001b[0m converted_args \u001b[38;5;241m=\u001b[39m \u001b[38;5;28mlist\u001b[39m(args)\n\u001b[1;32m    498\u001b[0m command \u001b[38;5;241m=\u001b[39m Command\u001b[38;5;241m.\u001b[39mW3C_EXECUTE_SCRIPT\n\u001b[0;32m--> 500\u001b[0m \u001b[38;5;28;01mreturn\u001b[39;00m \u001b[38;5;28;43mself\u001b[39;49m\u001b[38;5;241;43m.\u001b[39;49m\u001b[43mexecute\u001b[49m\u001b[43m(\u001b[49m\u001b[43mcommand\u001b[49m\u001b[43m,\u001b[49m\u001b[43m \u001b[49m\u001b[43m{\u001b[49m\u001b[38;5;124;43m\"\u001b[39;49m\u001b[38;5;124;43mscript\u001b[39;49m\u001b[38;5;124;43m\"\u001b[39;49m\u001b[43m:\u001b[49m\u001b[43m \u001b[49m\u001b[43mscript\u001b[49m\u001b[43m,\u001b[49m\u001b[43m \u001b[49m\u001b[38;5;124;43m\"\u001b[39;49m\u001b[38;5;124;43margs\u001b[39;49m\u001b[38;5;124;43m\"\u001b[39;49m\u001b[43m:\u001b[49m\u001b[43m \u001b[49m\u001b[43mconverted_args\u001b[49m\u001b[43m}\u001b[49m\u001b[43m)\u001b[49m[\u001b[38;5;124m\"\u001b[39m\u001b[38;5;124mvalue\u001b[39m\u001b[38;5;124m\"\u001b[39m]\n",
      "File \u001b[0;32m/usr/local/Caskroom/miniconda/base/envs/cv/lib/python3.10/site-packages/selenium/webdriver/remote/webdriver.py:440\u001b[0m, in \u001b[0;36mWebDriver.execute\u001b[0;34m(self, driver_command, params)\u001b[0m\n\u001b[1;32m    438\u001b[0m response \u001b[38;5;241m=\u001b[39m \u001b[38;5;28mself\u001b[39m\u001b[38;5;241m.\u001b[39mcommand_executor\u001b[38;5;241m.\u001b[39mexecute(driver_command, params)\n\u001b[1;32m    439\u001b[0m \u001b[38;5;28;01mif\u001b[39;00m response:\n\u001b[0;32m--> 440\u001b[0m     \u001b[38;5;28;43mself\u001b[39;49m\u001b[38;5;241;43m.\u001b[39;49m\u001b[43merror_handler\u001b[49m\u001b[38;5;241;43m.\u001b[39;49m\u001b[43mcheck_response\u001b[49m\u001b[43m(\u001b[49m\u001b[43mresponse\u001b[49m\u001b[43m)\u001b[49m\n\u001b[1;32m    441\u001b[0m     response[\u001b[38;5;124m\"\u001b[39m\u001b[38;5;124mvalue\u001b[39m\u001b[38;5;124m\"\u001b[39m] \u001b[38;5;241m=\u001b[39m \u001b[38;5;28mself\u001b[39m\u001b[38;5;241m.\u001b[39m_unwrap_value(response\u001b[38;5;241m.\u001b[39mget(\u001b[38;5;124m\"\u001b[39m\u001b[38;5;124mvalue\u001b[39m\u001b[38;5;124m\"\u001b[39m, \u001b[38;5;28;01mNone\u001b[39;00m))\n\u001b[1;32m    442\u001b[0m     \u001b[38;5;28;01mreturn\u001b[39;00m response\n",
      "File \u001b[0;32m/usr/local/Caskroom/miniconda/base/envs/cv/lib/python3.10/site-packages/appium/webdriver/errorhandler.py:30\u001b[0m, in \u001b[0;36mMobileErrorHandler.check_response\u001b[0;34m(self, response)\u001b[0m\n\u001b[1;32m     28\u001b[0m \u001b[38;5;28;01mif\u001b[39;00m wde\u001b[38;5;241m.\u001b[39mmsg \u001b[38;5;241m==\u001b[39m \u001b[38;5;124m'\u001b[39m\u001b[38;5;124mNo such context found.\u001b[39m\u001b[38;5;124m'\u001b[39m:\n\u001b[1;32m     29\u001b[0m     \u001b[38;5;28;01mraise\u001b[39;00m NoSuchContextException(wde\u001b[38;5;241m.\u001b[39mmsg, wde\u001b[38;5;241m.\u001b[39mscreen, wde\u001b[38;5;241m.\u001b[39mstacktrace) \u001b[38;5;28;01mfrom\u001b[39;00m\u001b[38;5;250m \u001b[39m\u001b[38;5;21;01mwde\u001b[39;00m\n\u001b[0;32m---> 30\u001b[0m \u001b[38;5;28;01mraise\u001b[39;00m wde\n",
      "File \u001b[0;32m/usr/local/Caskroom/miniconda/base/envs/cv/lib/python3.10/site-packages/appium/webdriver/errorhandler.py:26\u001b[0m, in \u001b[0;36mMobileErrorHandler.check_response\u001b[0;34m(self, response)\u001b[0m\n\u001b[1;32m     24\u001b[0m \u001b[38;5;28;01mdef\u001b[39;00m\u001b[38;5;250m \u001b[39m\u001b[38;5;21mcheck_response\u001b[39m(\u001b[38;5;28mself\u001b[39m, response: Dict) \u001b[38;5;241m-\u001b[39m\u001b[38;5;241m>\u001b[39m \u001b[38;5;28;01mNone\u001b[39;00m:\n\u001b[1;32m     25\u001b[0m     \u001b[38;5;28;01mtry\u001b[39;00m:\n\u001b[0;32m---> 26\u001b[0m         \u001b[38;5;28;43msuper\u001b[39;49m\u001b[43m(\u001b[49m\u001b[43m)\u001b[49m\u001b[38;5;241;43m.\u001b[39;49m\u001b[43mcheck_response\u001b[49m\u001b[43m(\u001b[49m\u001b[43mresponse\u001b[49m\u001b[43m)\u001b[49m\n\u001b[1;32m     27\u001b[0m     \u001b[38;5;28;01mexcept\u001b[39;00m WebDriverException \u001b[38;5;28;01mas\u001b[39;00m wde:\n\u001b[1;32m     28\u001b[0m         \u001b[38;5;28;01mif\u001b[39;00m wde\u001b[38;5;241m.\u001b[39mmsg \u001b[38;5;241m==\u001b[39m \u001b[38;5;124m'\u001b[39m\u001b[38;5;124mNo such context found.\u001b[39m\u001b[38;5;124m'\u001b[39m:\n",
      "File \u001b[0;32m/usr/local/Caskroom/miniconda/base/envs/cv/lib/python3.10/site-packages/selenium/webdriver/remote/errorhandler.py:245\u001b[0m, in \u001b[0;36mErrorHandler.check_response\u001b[0;34m(self, response)\u001b[0m\n\u001b[1;32m    243\u001b[0m         alert_text \u001b[38;5;241m=\u001b[39m value[\u001b[38;5;124m\"\u001b[39m\u001b[38;5;124malert\u001b[39m\u001b[38;5;124m\"\u001b[39m]\u001b[38;5;241m.\u001b[39mget(\u001b[38;5;124m\"\u001b[39m\u001b[38;5;124mtext\u001b[39m\u001b[38;5;124m\"\u001b[39m)\n\u001b[1;32m    244\u001b[0m     \u001b[38;5;28;01mraise\u001b[39;00m exception_class(message, screen, stacktrace, alert_text)  \u001b[38;5;66;03m# type: ignore[call-arg]  # mypy is not smart enough here\u001b[39;00m\n\u001b[0;32m--> 245\u001b[0m \u001b[38;5;28;01mraise\u001b[39;00m exception_class(message, screen, stacktrace)\n",
      "\u001b[0;31mInvalidArgumentException\u001b[0m: Message: The following required parameter is missing: [\"keys\"]\nKnown required parameters are: [\"keys\"]\nKnown optional parameters are: [\"elementId\"]\nYou have provided none\nStacktrace:\nBadParametersError: The following required parameter is missing: [\"keys\"]\nKnown required parameters are: [\"keys\"]\nKnown optional parameters are: [\"elementId\"]\nYou have provided none\n    at checkParams (/Users/edenz/.appium/node_modules/@appium/base-driver/lib/protocol/protocol.js:155:9)\n    at validateExecuteMethodParams (/Users/edenz/.appium/node_modules/@appium/base-driver/lib/protocol/protocol.js:242:5)\n    at Mac2Driver.executeMethod (/Users/edenz/.appium/node_modules/@appium/base-driver/lib/basedriver/commands/execute.ts:34:45)\n    at Mac2Driver.execute (/Users/edenz/.appium/node_modules/appium-mac2-driver/lib/commands/execute.js:16:21)\n    at runCommandPromise (/Users/edenz/.appium/node_modules/@appium/base-driver/lib/basedriver/driver.ts:115:20)\n    at /Users/edenz/.appium/node_modules/async-lock/lib/index.js:171:12\n    at AsyncLock._promiseTry (/Users/edenz/.appium/node_modules/async-lock/lib/index.js:306:31)\n    at exec (/Users/edenz/.appium/node_modules/async-lock/lib/index.js:170:9)\n    at AsyncLock.acquire (/Users/edenz/.appium/node_modules/async-lock/lib/index.js:189:3)\n    at Mac2Driver.executeCommand (/Users/edenz/.appium/node_modules/@appium/base-driver/lib/basedriver/driver.ts:159:39)\n    at processTicksAndRejections (node:internal/process/task_queues:95:5)\n    at defaultBehavior (/Users/edenz/.xnpm/lib/node_modules/appium/lib/appium.js:684:14)\n    at AppiumDriver.executeWrappedCommand (/Users/edenz/.xnpm/lib/node_modules/appium/lib/appium.js:774:16)\n    at AppiumDriver.executeCommand (/Users/edenz/.xnpm/lib/node_modules/appium/lib/appium.js:696:17)\n    at asyncHandler (/Users/edenz/.xnpm/lib/node_modules/appium/node_modules/@appium/base-driver/lib/protocol/protocol.js:387:19)"
     ]
    }
   ],
   "source": [
    "# 模拟 Cmd+F 快捷键\n",
    "driver.execute_script('macos: keys', {'command': True, 'text': 'f'})\n",
    "time.sleep(0.2)\n",
    "\n",
    "# 输入搜索内容\n",
    "driver.execute_script('macos: keys', {'keys': list('seanzhang')})\n",
    "time.sleep(0.2)\n",
    "\n",
    "page_source = driver.page_source\n",
    "with open(\"root.xml\", \"w\") as f:\n",
    "    f.write(page_source)\n",
    "root = ET.fromstring(page_source)\n",
    "\n",
    "tables = root.findall(\".//XCUIElementTypeTable\")"
   ]
  },
  {
   "cell_type": "code",
   "execution_count": 91,
   "id": "c8bed35a-88a4-4f27-a683-1dcb46c232ff",
   "metadata": {},
   "outputs": [],
   "source": [
    "users = []\n",
    "# 定位到 Table\n",
    "for row in tables[0].findall(\"./XCUIElementTypeTableRow\"):\n",
    "    cell = row.find(\"./XCUIElementTypeCell\")\n",
    "    if cell is not None:\n",
    "        static_text = cell.find(\"./XCUIElementTypeStaticText\")\n",
    "        if static_text is not None and \"value\" in static_text.attrib:\n",
    "            users.append(static_text)"
   ]
  },
  {
   "cell_type": "code",
   "execution_count": 92,
   "id": "697e4cc8-b4c7-4205-b4d3-6f58c04a78ca",
   "metadata": {},
   "outputs": [
    {
     "name": "stdout",
     "output_type": "stream",
     "text": [
      "seanzhang(张建昌)\n"
     ]
    }
   ],
   "source": [
    "sean = None          \n",
    "for u in users:\n",
    "    print(u.attrib[\"value\"])\n",
    "    if 'seanzhang' in u.attrib[\"value\"].lower():\n",
    "        sean = u\n",
    "        break"
   ]
  },
  {
   "cell_type": "code",
   "execution_count": 69,
   "id": "5e8d871d-9c62-434b-9959-16faf9a426c2",
   "metadata": {},
   "outputs": [],
   "source": [
    "def find_labels(root):\n",
    "    # 获取第一个 Table（标签菜单）\n",
    "    label_table = root.find(\".//XCUIElementTypeTable\")\n",
    "    labels = []\n",
    "    \n",
    "    # 遍历所有行\n",
    "    for row in label_table.findall(\"./XCUIElementTypeTableRow\"):\n",
    "        cell = row.find(\"./XCUIElementTypeCell\")\n",
    "        if cell is not None:\n",
    "            # 查找每个单元格中的文本\n",
    "            static_text = cell.find(\"./XCUIElementTypeStaticText[@value]\")\n",
    "            if static_text is not None and static_text.attrib[\"value\"]:\n",
    "                labels.append(static_text)\n",
    "    return labels"
   ]
  },
  {
   "cell_type": "code",
   "execution_count": 70,
   "id": "64915d97-5c2d-4655-9de0-2d0f08825e8f",
   "metadata": {},
   "outputs": [],
   "source": [
    "def create_new_tag(driver, tag):\n",
    "    # 解析当前页面的 XML\n",
    "    page_source = driver.page_source\n",
    "    root = ET.fromstring(page_source)\n",
    "    \n",
    "    # 找到输入框并输入标签值\n",
    "    input_field = root.find(\".//XCUIElementTypeTextField[@placeholderValue='Enter a tag']\")\n",
    "    if input_field is not None:\n",
    "        print(\"输入新标签：%s\" % tag)\n",
    "        x = int(input_field.attrib[\"x\"]) + int(input_field.attrib[\"width\"]) / 2\n",
    "        y = int(input_field.attrib[\"y\"]) + int(input_field.attrib[\"height\"]) / 2\n",
    "        \n",
    "        # 点击输入框\n",
    "        driver.execute_script('macos: click', {'x': x, 'y': y, 'duration': 100})\n",
    "        # 输入标签值\n",
    "        driver.execute_script('macos: keys', {'keys': list(tag)})\n",
    "    \n",
    "    # 找到并点击 OK 按钮\n",
    "    ok_button = root.find(\".//XCUIElementTypeButton[@title='OK']\")\n",
    "    if ok_button is not None:\n",
    "        print(\"创建新标签: %s\" % tag)\n",
    "        x = int(ok_button.attrib[\"x\"]) + int(ok_button.attrib[\"width\"]) / 2\n",
    "        y = int(ok_button.attrib[\"y\"]) + int(ok_button.attrib[\"height\"]) / 2\n",
    "        driver.execute_script('macos: click', {'x': x, 'y': y, 'duration': 100})"
   ]
  },
  {
   "cell_type": "code",
   "execution_count": 98,
   "id": "e3c196b2-8c6d-4019-a73d-41e3128214d7",
   "metadata": {},
   "outputs": [],
   "source": [
    "def set_tag_1(driver, expect_tag):\n",
    "    # 解析标签菜单\n",
    "    page_source = driver.page_source\n",
    "    with open(\"tags.xml\", \"w\") as f:\n",
    "        f.write(page_source)\n",
    "    root = ET.fromstring(page_source)\n",
    "    # 获取第一个 Table（标签菜单）\n",
    "    tag_table = root.find(\".//XCUIElementTypeTable\")\n",
    "    \n",
    "    # 先找 New Tag 的位置（以备后用）\n",
    "    new_tag = None\n",
    "    for row in tag_table.findall(\"./XCUIElementTypeTableRow\"):\n",
    "        cell = row.find(\"./XCUIElementTypeCell\")\n",
    "        if cell is not None:\n",
    "            static_text = cell.find(\"./XCUIElementTypeStaticText[@value='New Tag']\")\n",
    "            if static_text is not None:\n",
    "                new_tag = cell\n",
    "                break\n",
    "    \n",
    "    # 查找期望的标签\n",
    "    target_tag = None\n",
    "    for row in tag_table.findall(\"./XCUIElementTypeTableRow\"):\n",
    "        cell = row.find(\"./XCUIElementTypeCell\")\n",
    "        if cell is not None:\n",
    "            static_text = cell.find(\"./XCUIElementTypeStaticText\")\n",
    "            if static_text is not None and \"value\" in static_text.attrib:\n",
    "                if static_text.attrib[\"value\"] == expect_tag:\n",
    "                    target_tag = cell\n",
    "                    break\n",
    "    \n",
    "    # 如果找到目标标签就点击它，否则点击 New Tag\n",
    "    if target_tag is not None:\n",
    "        x = int(target_tag.attrib[\"x\"]) + int(target_tag.attrib[\"width\"]) / 2\n",
    "        y = int(target_tag.attrib[\"y\"]) + int(target_tag.attrib[\"height\"]) / 2\n",
    "        print(\"click %s, x: %d, y: %d\" % (expect_tag, x, y))\n",
    "        #driver.execute_script('macos: click', {'x': x, 'y': y})\n",
    "        #driver.execute_script('macos: click', {'x': x, 'y': y, 'duration': 200})\n",
    "        action.tap(x=x, y=y).perform()\n",
    "    elif new_tag is not None:\n",
    "        print(\"click new tag\")\n",
    "        x = int(new_tag.attrib[\"x\"]) + int(new_tag.attrib[\"width\"]) / 2\n",
    "        y = int(new_tag.attrib[\"y\"]) + int(new_tag.attrib[\"height\"]) / 2\n",
    "        #driver.execute_script('macos: click', {'x': x, 'y': y})\n",
    "        driver.execute_script('macos: click', {'x': x, 'y': y, 'duration': 200})\n",
    "        create_new_tag(driver, expect_tag)\n",
    "    else:\n",
    "        print(\"未找到 New Tag 按钮\")"
   ]
  },
  {
   "cell_type": "code",
   "execution_count": 110,
   "id": "2f4c8668-c959-4e1c-bd29-bd1654c9d014",
   "metadata": {},
   "outputs": [],
   "source": [
    "def set_tag(driver, expect_tag):\n",
    "    # 解析标签菜单\n",
    "    page_source = driver.page_source\n",
    "    with open(\"tags.xml\", \"w\") as f:\n",
    "        f.write(page_source)\n",
    "    root = ET.fromstring(page_source)\n",
    "    # 获取第一个 Table（标签菜单）\n",
    "    tag_table = root.find(\".//XCUIElementTypeTable\")\n",
    "    \n",
    "    # 先找 New Tag 的位置（以备后用）\n",
    "    new_tag = None\n",
    "    for row in tag_table.findall(\"./XCUIElementTypeTableRow\"):\n",
    "        cell = row.find(\"./XCUIElementTypeCell\")\n",
    "        if cell is not None:\n",
    "            static_text = cell.find(\"./XCUIElementTypeStaticText[@value='New Tag']\")\n",
    "            if static_text is not None:\n",
    "                new_tag = cell\n",
    "                break\n",
    "    \n",
    "    # 查找期望的标签\n",
    "    target_tag = None\n",
    "    for row in tag_table.findall(\"./XCUIElementTypeTableRow\"):\n",
    "        cell = row.find(\"./XCUIElementTypeCell\")\n",
    "        if cell is not None:\n",
    "            static_text = cell.find(\"./XCUIElementTypeStaticText\")\n",
    "            if static_text is not None and \"value\" in static_text.attrib:\n",
    "                if static_text.attrib[\"value\"] == expect_tag:\n",
    "                    target_tag = cell\n",
    "                    break\n",
    "    new_x = int(new_tag.attrib[\"x\"]) + int(new_tag.attrib[\"width\"]) / 2\n",
    "    new_y = int(new_tag.attrib[\"y\"]) + int(new_tag.attrib[\"height\"]) / 2\n",
    "\n",
    "    # 如果找到目标标签就点击它，否则点击 New Tag\n",
    "    if target_tag is not None:\n",
    "        x = int(target_tag.attrib[\"x\"]) + int(target_tag.attrib[\"width\"]) / 2\n",
    "        y = int(target_tag.attrib[\"y\"]) + int(target_tag.attrib[\"height\"]) / 2\n",
    "        driver.execute_script('macos: hover', {'x': new_x, 'y': new_y})\n",
    "        print(\"click %s, x: %d, y: %d\" % (expect_tag, x, y))\n",
    "        driver.execute_script('macos: click', {'x': x, 'y': y})\n",
    "    elif new_tag is not None:\n",
    "        print(\"click new tag\")\n",
    "        driver.execute_script('macos: click', {'x': new_x, 'y': new_y})\n",
    "        create_new_tag(driver, expect_tag)\n",
    "    else:\n",
    "        print(\"未找到 New Tag 按钮\")"
   ]
  },
  {
   "cell_type": "code",
   "execution_count": 116,
   "id": "af8fd20c-765b-4f0c-b8fc-806c515e1c70",
   "metadata": {},
   "outputs": [
    {
     "name": "stdout",
     "output_type": "stream",
     "text": [
      "click z4, x: 1355, y: 237\n"
     ]
    }
   ],
   "source": [
    "x = int(sean.attrib[\"x\"]) + int(sean.attrib[\"width\"]) / 2\n",
    "y = int(sean.attrib[\"y\"]) + int(sean.attrib[\"height\"]) / 2\n",
    "driver.execute_script('macos: rightClick', {'x': x, 'y': y})\n",
    "menu_source = driver.page_source\n",
    "menu_root = ET.fromstring(menu_source)\n",
    "chat_label = menu_root.find(\".//XCUIElementTypeStaticText[@value='Chat label']\")\n",
    "if chat_label is not None:\n",
    "    # 计算元素中心点\n",
    "    x = int(chat_label.attrib[\"x\"]) + int(chat_label.attrib[\"width\"]) / 2  # 1152 + 67/2\n",
    "    y = int(chat_label.attrib[\"y\"]) + int(chat_label.attrib[\"height\"]) / 2  # 761 + 22/2\n",
    "    \n",
    "    # 点击该位置\n",
    "    driver.execute_script('macos: click', {'x': x, 'y': y})\n",
    "    set_tag(driver, \"z4\")\n",
    "    time.sleep(0.2)\n",
    "    # label_source = driver.page_source\n",
    "    # with open('labels.xml', 'w') as mf:\n",
    "    #     mf.write(label_source)\n",
    "    # label_root = ET.fromstring(label_source)\n",
    "    # labels = find_labels(label_root)\n",
    "    # for l in labels:\n",
    "    #     print(\"label: %s\" % l.attrib[\"value\"])\n",
    "    # expect_label = \"xxx\"\n",
    "    "
   ]
  },
  {
   "cell_type": "code",
   "execution_count": 115,
   "id": "0d3177fc-7fc7-443a-8290-7ab563528733",
   "metadata": {
    "scrolled": true
   },
   "outputs": [],
   "source": [
    "with open('menu.xml', 'w') as mf:\n",
    "    mf.write(menu_source)"
   ]
  },
  {
   "cell_type": "code",
   "execution_count": null,
   "id": "72aa72ad-63db-4c6d-91d5-e3c1cce891e3",
   "metadata": {},
   "outputs": [],
   "source": []
  }
 ],
 "metadata": {
  "kernelspec": {
   "display_name": "Python 3 (ipykernel)",
   "language": "python",
   "name": "python3"
  },
  "language_info": {
   "codemirror_mode": {
    "name": "ipython",
    "version": 3
   },
   "file_extension": ".py",
   "mimetype": "text/x-python",
   "name": "python",
   "nbconvert_exporter": "python",
   "pygments_lexer": "ipython3",
   "version": "3.10.11"
  }
 },
 "nbformat": 4,
 "nbformat_minor": 5
}
