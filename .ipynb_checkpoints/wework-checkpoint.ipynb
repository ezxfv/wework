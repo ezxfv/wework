{
 "cells": [
  {
   "cell_type": "code",
   "execution_count": 1,
   "id": "35660e83-9da4-4f90-974e-186c02e3e305",
   "metadata": {},
   "outputs": [],
   "source": [
    "from appium import webdriver\n",
    "from appium.webdriver.common.appiumby import AppiumBy\n",
    "from appium.options.mac import Mac2Options\n",
    "import time\n",
    "import xml.etree.ElementTree as ET"
   ]
  },
  {
   "cell_type": "code",
   "execution_count": 3,
   "id": "06bd1d41-2742-4144-9518-26868ce8eba1",
   "metadata": {},
   "outputs": [],
   "source": [
    "def save(file, data):\n",
    "    with open(file+\".xml\", \"w\") as f:\n",
    "        f.write(data)"
   ]
  },
  {
   "cell_type": "code",
   "execution_count": 4,
   "id": "727ac3da-e3f0-445a-9984-cf43ff743921",
   "metadata": {},
   "outputs": [],
   "source": [
    "options = Mac2Options()\n",
    "options.bundle_id = 'com.tencent.WeWorkMac'  # 指定企业微信\n",
    "options.platform_name = 'mac'\n",
    "options.automation_name = 'mac2'\n",
    "options.set_capability(\"autoLaunch\", False)\n",
    "options.set_capability(\"forceAppLaunch\", False)  # 不强制启动应用\n",
    "options.set_capability(\"useRunningApp\", True)  # 连接已经运行的企业微信\n",
    "options.set_capability(\"shouldUseSingletonTestManager\", True)  # 避免重复创建 WDA 实例\n",
    "options.set_capability(\"wdaLocalPort\", 8100)  # 绑定已有 WDA，防止重启应用\n",
    "# 绑定已有进程id\n",
    "options.set_capability(\"connectHardwareKeyboard\", True)  # 连接但不干扰输入法\n",
    "options.set_capability(\"newCommandTimeout\", 6000) # 设置等待新命令的时间\n",
    "# **初始化 driver**\n",
    "driver = webdriver.Remote('http://localhost:4723', options=options)"
   ]
  },
  {
   "cell_type": "code",
   "execution_count": 46,
   "id": "202f803c-2938-4fcf-a335-d322becd9cf4",
   "metadata": {},
   "outputs": [],
   "source": [
    "def search_and_click_first_result(driver, search_text):    \n",
    "    # 点击 Search 菜单项\n",
    "    #search_menu = driver.find_element(AppiumBy.XPATH, '//XCUIElementTypeMenuItem[@title=\"Search\"]')\n",
    "    # search_menu.click()\n",
    "    # time.sleep(0.5)\n",
    "    #search_menu.clear()\n",
    "    \n",
    "    driver.execute_script('macos: keys', {'keys': [{'key': 'f', 'modifierFlags': 1 << 4}, ]}) # cmd + f\n",
    "    driver.execute_script('macos: keys', {'keys': [{'key': 'a', 'modifierFlags': 1 << 4}, ]}) # cmd + a\n",
    "    driver.execute_script('macos: keys', {'keys': [{'key': '\\ue003'}]})  # 按 Backspace 键\n",
    "\n",
    "    \n",
    "    # 输入搜索文本\n",
    "    driver.execute_script('macos: keys', {'keys': list(search_text)})\n",
    "    time.sleep(0.5)\n",
    "    driver.execute_script('macos: keys', {'keys': ['\\n', '\\n']})\n",
    "    #driver.execute_script('macos: keys', {'keys': [{'key': '\\ue007'}]})  # 按 Return 键\n",
    "\n",
    "    time.sleep(0.2)  # 延迟，模拟用户等待\n",
    "    # candidates_source = driver.page_source\n",
    "    # save(\"candidates\", candidates_source)"
   ]
  },
  {
   "cell_type": "code",
   "execution_count": 49,
   "id": "389d7a19-74e8-402a-a67a-a9be193c264e",
   "metadata": {},
   "outputs": [],
   "source": [
    "search_and_click_first_result(driver, \"seanzhang\")"
   ]
  },
  {
   "cell_type": "code",
   "execution_count": 30,
   "id": "fe01cf86-e5d5-481d-b8eb-2754f49f9519",
   "metadata": {},
   "outputs": [],
   "source": [
    "page_source = driver.page_source\n",
    "with open(\"root.xml\", \"w\") as f:\n",
    "    f.write(page_source)\n",
    "root = ET.fromstring(page_source)\n",
    "\n",
    "tables = root.findall(\".//XCUIElementTypeTable\")"
   ]
  },
  {
   "cell_type": "code",
   "execution_count": 91,
   "id": "c8bed35a-88a4-4f27-a683-1dcb46c232ff",
   "metadata": {},
   "outputs": [],
   "source": [
    "users = []\n",
    "# 定位到 Table\n",
    "for row in tables[0].findall(\"./XCUIElementTypeTableRow\"):\n",
    "    cell = row.find(\"./XCUIElementTypeCell\")\n",
    "    if cell is not None:\n",
    "        static_text = cell.find(\"./XCUIElementTypeStaticText\")\n",
    "        if static_text is not None and \"value\" in static_text.attrib:\n",
    "            users.append(static_text)"
   ]
  },
  {
   "cell_type": "code",
   "execution_count": 92,
   "id": "697e4cc8-b4c7-4205-b4d3-6f58c04a78ca",
   "metadata": {},
   "outputs": [
    {
     "name": "stdout",
     "output_type": "stream",
     "text": [
      "seanzhang(张建昌)\n"
     ]
    }
   ],
   "source": [
    "sean = None          \n",
    "for u in users:\n",
    "    print(u.attrib[\"value\"])\n",
    "    if 'seanzhang' in u.attrib[\"value\"].lower():\n",
    "        sean = u\n",
    "        break"
   ]
  },
  {
   "cell_type": "code",
   "execution_count": 69,
   "id": "5e8d871d-9c62-434b-9959-16faf9a426c2",
   "metadata": {},
   "outputs": [],
   "source": [
    "def find_labels(root):\n",
    "    # 获取第一个 Table（标签菜单）\n",
    "    label_table = root.find(\".//XCUIElementTypeTable\")\n",
    "    labels = []\n",
    "    \n",
    "    # 遍历所有行\n",
    "    for row in label_table.findall(\"./XCUIElementTypeTableRow\"):\n",
    "        cell = row.find(\"./XCUIElementTypeCell\")\n",
    "        if cell is not None:\n",
    "            # 查找每个单元格中的文本\n",
    "            static_text = cell.find(\"./XCUIElementTypeStaticText[@value]\")\n",
    "            if static_text is not None and static_text.attrib[\"value\"]:\n",
    "                labels.append(static_text)\n",
    "    return labels"
   ]
  },
  {
   "cell_type": "code",
   "execution_count": 70,
   "id": "64915d97-5c2d-4655-9de0-2d0f08825e8f",
   "metadata": {},
   "outputs": [],
   "source": [
    "def create_new_tag(driver, tag):\n",
    "    # 解析当前页面的 XML\n",
    "    page_source = driver.page_source\n",
    "    root = ET.fromstring(page_source)\n",
    "    \n",
    "    # 找到输入框并输入标签值\n",
    "    input_field = root.find(\".//XCUIElementTypeTextField[@placeholderValue='Enter a tag']\")\n",
    "    if input_field is not None:\n",
    "        print(\"输入新标签：%s\" % tag)\n",
    "        x = int(input_field.attrib[\"x\"]) + int(input_field.attrib[\"width\"]) / 2\n",
    "        y = int(input_field.attrib[\"y\"]) + int(input_field.attrib[\"height\"]) / 2\n",
    "        \n",
    "        # 点击输入框\n",
    "        driver.execute_script('macos: click', {'x': x, 'y': y, 'duration': 100})\n",
    "        # 输入标签值\n",
    "        driver.execute_script('macos: keys', {'keys': list(tag)})\n",
    "    \n",
    "    # 找到并点击 OK 按钮\n",
    "    ok_button = root.find(\".//XCUIElementTypeButton[@title='OK']\")\n",
    "    if ok_button is not None:\n",
    "        print(\"创建新标签: %s\" % tag)\n",
    "        x = int(ok_button.attrib[\"x\"]) + int(ok_button.attrib[\"width\"]) / 2\n",
    "        y = int(ok_button.attrib[\"y\"]) + int(ok_button.attrib[\"height\"]) / 2\n",
    "        driver.execute_script('macos: click', {'x': x, 'y': y, 'duration': 100})"
   ]
  },
  {
   "cell_type": "code",
   "execution_count": 110,
   "id": "2f4c8668-c959-4e1c-bd29-bd1654c9d014",
   "metadata": {},
   "outputs": [],
   "source": [
    "def set_tag(driver, expect_tag):\n",
    "    # 解析标签菜单\n",
    "    page_source = driver.page_source\n",
    "    with open(\"tags.xml\", \"w\") as f:\n",
    "        f.write(page_source)\n",
    "    root = ET.fromstring(page_source)\n",
    "    # 获取第一个 Table（标签菜单）\n",
    "    tag_table = root.find(\".//XCUIElementTypeTable\")\n",
    "    \n",
    "    # 先找 New Tag 的位置（以备后用）\n",
    "    new_tag = None\n",
    "    for row in tag_table.findall(\"./XCUIElementTypeTableRow\"):\n",
    "        cell = row.find(\"./XCUIElementTypeCell\")\n",
    "        if cell is not None:\n",
    "            static_text = cell.find(\"./XCUIElementTypeStaticText[@value='New Tag']\")\n",
    "            if static_text is not None:\n",
    "                new_tag = cell\n",
    "                break\n",
    "    \n",
    "    # 查找期望的标签\n",
    "    target_tag = None\n",
    "    for row in tag_table.findall(\"./XCUIElementTypeTableRow\"):\n",
    "        cell = row.find(\"./XCUIElementTypeCell\")\n",
    "        if cell is not None:\n",
    "            static_text = cell.find(\"./XCUIElementTypeStaticText\")\n",
    "            if static_text is not None and \"value\" in static_text.attrib:\n",
    "                if static_text.attrib[\"value\"] == expect_tag:\n",
    "                    target_tag = cell\n",
    "                    break\n",
    "    new_x = int(new_tag.attrib[\"x\"]) + int(new_tag.attrib[\"width\"]) / 2\n",
    "    new_y = int(new_tag.attrib[\"y\"]) + int(new_tag.attrib[\"height\"]) / 2\n",
    "\n",
    "    # 如果找到目标标签就点击它，否则点击 New Tag\n",
    "    if target_tag is not None:\n",
    "        x = int(target_tag.attrib[\"x\"]) + int(target_tag.attrib[\"width\"]) / 2\n",
    "        y = int(target_tag.attrib[\"y\"]) + int(target_tag.attrib[\"height\"]) / 2\n",
    "        driver.execute_script('macos: hover', {'x': new_x, 'y': new_y})\n",
    "        print(\"click %s, x: %d, y: %d\" % (expect_tag, x, y))\n",
    "        driver.execute_script('macos: click', {'x': x, 'y': y})\n",
    "    elif new_tag is not None:\n",
    "        print(\"click new tag\")\n",
    "        driver.execute_script('macos: click', {'x': new_x, 'y': new_y})\n",
    "        create_new_tag(driver, expect_tag)\n",
    "    else:\n",
    "        print(\"未找到 New Tag 按钮\")"
   ]
  },
  {
   "cell_type": "code",
   "execution_count": 116,
   "id": "af8fd20c-765b-4f0c-b8fc-806c515e1c70",
   "metadata": {},
   "outputs": [
    {
     "name": "stdout",
     "output_type": "stream",
     "text": [
      "click z4, x: 1355, y: 237\n"
     ]
    }
   ],
   "source": [
    "x = int(sean.attrib[\"x\"]) + int(sean.attrib[\"width\"]) / 2\n",
    "y = int(sean.attrib[\"y\"]) + int(sean.attrib[\"height\"]) / 2\n",
    "driver.execute_script('macos: rightClick', {'x': x, 'y': y})\n",
    "menu_source = driver.page_source\n",
    "menu_root = ET.fromstring(menu_source)\n",
    "chat_label = menu_root.find(\".//XCUIElementTypeStaticText[@value='Chat label']\")\n",
    "if chat_label is not None:\n",
    "    # 计算元素中心点\n",
    "    x = int(chat_label.attrib[\"x\"]) + int(chat_label.attrib[\"width\"]) / 2  # 1152 + 67/2\n",
    "    y = int(chat_label.attrib[\"y\"]) + int(chat_label.attrib[\"height\"]) / 2  # 761 + 22/2\n",
    "    \n",
    "    # 点击该位置\n",
    "    driver.execute_script('macos: click', {'x': x, 'y': y})\n",
    "    set_tag(driver, \"z4\")\n",
    "    time.sleep(0.2)\n",
    "    # label_source = driver.page_source\n",
    "    # with open('labels.xml', 'w') as mf:\n",
    "    #     mf.write(label_source)\n",
    "    # label_root = ET.fromstring(label_source)\n",
    "    # labels = find_labels(label_root)\n",
    "    # for l in labels:\n",
    "    #     print(\"label: %s\" % l.attrib[\"value\"])\n",
    "    # expect_label = \"xxx\"\n",
    "    "
   ]
  },
  {
   "cell_type": "code",
   "execution_count": 115,
   "id": "0d3177fc-7fc7-443a-8290-7ab563528733",
   "metadata": {
    "scrolled": true
   },
   "outputs": [],
   "source": [
    "with open('menu.xml', 'w') as mf:\n",
    "    mf.write(menu_source)"
   ]
  },
  {
   "cell_type": "code",
   "execution_count": null,
   "id": "72aa72ad-63db-4c6d-91d5-e3c1cce891e3",
   "metadata": {},
   "outputs": [],
   "source": []
  }
 ],
 "metadata": {
  "kernelspec": {
   "display_name": "Python 3 (ipykernel)",
   "language": "python",
   "name": "python3"
  },
  "language_info": {
   "codemirror_mode": {
    "name": "ipython",
    "version": 3
   },
   "file_extension": ".py",
   "mimetype": "text/x-python",
   "name": "python",
   "nbconvert_exporter": "python",
   "pygments_lexer": "ipython3",
   "version": "3.13.2"
  }
 },
 "nbformat": 4,
 "nbformat_minor": 5
}
